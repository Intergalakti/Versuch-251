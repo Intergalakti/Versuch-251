{
 "cells": [
  {
   "cell_type": "code",
   "execution_count": 11,
   "metadata": {},
   "outputs": [],
   "source": [
    "%matplotlib inline\n",
    "import matplotlib.pyplot as plt\n",
    "import numpy as np\n",
    "from scipy.optimize import curve_fit\n",
    "from numpy import exp, pi, sqrt\n",
    "from scipy.special import gamma\n",
    "from scipy.stats import chi2\n",
    "\n",
    "def linear(x,a,b):\n",
    "    return a*x+b\n",
    "def gaussian(x, A, mu, sig): #A: Flaeche der Gaussfunktion\n",
    "    return A/(sqrt(2*pi)*sig)*exp(-(x-mu)**2/2/sig**2)\n",
    "def poisson(x, A_p, mu_p):\n",
    "    return A_p*exp(-mu_p)*mu_p**x/gamma(x+1)"
   ]
  },
  {
   "cell_type": "code",
   "execution_count": 24,
   "metadata": {},
   "outputs": [
    {
     "name": "stdout",
     "output_type": "stream",
     "text": [
      "Steigung Plateaubereich (1 min): 0.00016666666666666666 1/Vs, Fehler 0.00028867513459481284 1/Vs, bzw.\n",
      "   1.0 %, Fehler 2.449489742783178 % pro 100V\n",
      "Steigung Plateaubereich (3 min): 5.555555555555556e-05 1/Vs, Fehler 9.622504486493762e-05 1/Vs, bzw.\n",
      "   1.0 %, Fehler 2.449489742783178 % pro 100V\n"
     ]
    },
    {
     "data": {
      "image/png": "[encoded data removed]",
      "text/plain": [
       "<Figure size 864x576 with 1 Axes>"
      ]
     },
     "metadata": {
      "needs_background": "light"
     },
     "output_type": "display_data"
    }
   ],
   "source": [
    "#Zaehlrohrspannung:\n",
    "U=np.array([450,470,490,510,530,550,570,590,610])\n",
    "#gezaehlte Ereignisse\n",
    "N=np.array([1906,2131,2177,2198,2203,2197,2262,2303,2220])\n",
    "Fehler_N=np.sqrt(N)\n",
    "\n",
    "plt.figure(1, figsize=(12,8))\n",
    "plt.errorbar(U, N, Fehler_N, fmt=\".\")\n",
    "plt.xlabel('Spannung / V')\n",
    "plt.ylabel('Ereignissse')\n",
    "plt.title('Zaehlrohrcharakteristik')\n",
    "\n",
    "popt, pcov=curve_fit(linear, U[1:], N[1:])\n",
    "plt.errorbar(U, N, Fehler_N, fmt=\".\")\n",
    "plt.xlabel('Spannung / V')\n",
    "plt.ylabel('Ereignissse')\n",
    "plt.title('Zaehlrohrcharakteristik')\n",
    "plt.plot(U, linear(U,*popt))\n",
    "#plt.savefig(\"figures/Zaehlrohrcharakteristik.pdf\", format=\"pdf\")\n",
    "\n",
    "steig1=(2-1)/(100*60)\n",
    "steig3=(2-1)/(100*180)\n",
    "relst1=(2-1)/1\n",
    "relst3=(2-1)/1\n",
    "dsteig1=np.sqrt(2+1)/(100*60)\n",
    "dsteig3=np.sqrt(2+1)/(100*180)\n",
    "drelst1=(2/1)*np.sqrt((1/1)+(1/2))\n",
    "drelst3=(2/1)*np.sqrt((1/1)+(1/2))\n",
    "print(\"Steigung Plateaubereich (1 min): {} 1/Vs, Fehler {} 1/Vs, bzw.\\n   {} %, Fehler {} % pro 100V\"\n",
    "      .format(steig1,dsteig1,relst1,drelst1))\n",
    "print(\"Steigung Plateaubereich (3 min): {} 1/Vs, Fehler {} 1/Vs, bzw.\\n   {} %, Fehler {} % pro 100V\"\n",
    "      .format(steig3,dsteig3,relst3,drelst3))"
   ]
  },
  {
   "cell_type": "code",
   "execution_count": 16,
   "metadata": {},
   "outputs": [
    {
     "ename": "OSError",
     "evalue": "data/Dateiname.dat not found.",
     "output_type": "error",
     "traceback": [
      "\u001b[1;31m---------------------------------------------------------------------------\u001b[0m",
      "\u001b[1;31mOSError\u001b[0m                                   Traceback (most recent call last)",
      "\u001b[1;32m<ipython-input-16-2bc42d5b965e>\u001b[0m in \u001b[0;36m<module>\u001b[1;34m()\u001b[0m\n\u001b[1;32m----> 1\u001b[1;33m \u001b[0manzahl\u001b[0m\u001b[1;33m,\u001b[0m \u001b[0mhaeufigkeit\u001b[0m\u001b[1;33m=\u001b[0m\u001b[0mnp\u001b[0m\u001b[1;33m.\u001b[0m\u001b[0mloadtxt\u001b[0m\u001b[1;33m(\u001b[0m\u001b[1;34m'data/Dateiname.dat'\u001b[0m\u001b[1;33m,\u001b[0m \u001b[0munpack\u001b[0m\u001b[1;33m=\u001b[0m\u001b[1;32mTrue\u001b[0m\u001b[1;33m)\u001b[0m\u001b[1;33m\u001b[0m\u001b[0m\n\u001b[0m\u001b[0;32m      2\u001b[0m \u001b[0mfehler\u001b[0m\u001b[1;33m=\u001b[0m\u001b[0mnp\u001b[0m\u001b[1;33m.\u001b[0m\u001b[0msqrt\u001b[0m\u001b[1;33m(\u001b[0m\u001b[0mhaeufigkeit\u001b[0m\u001b[1;33m)\u001b[0m\u001b[1;33m\u001b[0m\u001b[0m\n\u001b[0;32m      3\u001b[0m \u001b[1;33m\u001b[0m\u001b[0m\n\u001b[0;32m      4\u001b[0m \u001b[0mplt\u001b[0m\u001b[1;33m.\u001b[0m\u001b[0merrorbar\u001b[0m\u001b[1;33m(\u001b[0m\u001b[0manzahl\u001b[0m\u001b[1;33m,\u001b[0m \u001b[0mhaeufigkeit\u001b[0m\u001b[1;33m,\u001b[0m \u001b[0mfehler\u001b[0m\u001b[1;33m,\u001b[0m \u001b[0mfmt\u001b[0m\u001b[1;33m=\u001b[0m\u001b[1;34m\".\"\u001b[0m\u001b[1;33m)\u001b[0m\u001b[1;33m\u001b[0m\u001b[0m\n\u001b[0;32m      5\u001b[0m \u001b[0mplt\u001b[0m\u001b[1;33m.\u001b[0m\u001b[0mxlabel\u001b[0m\u001b[1;33m(\u001b[0m\u001b[1;34m'Anzahl der Zerfaelle pro Zeiteinheit / 1/s'\u001b[0m\u001b[1;33m)\u001b[0m\u001b[1;33m\u001b[0m\u001b[0m\n",
      "\u001b[1;32mD:\\Anaconda3\\lib\\site-packages\\numpy\\lib\\npyio.py\u001b[0m in \u001b[0;36mloadtxt\u001b[1;34m(fname, dtype, comments, delimiter, converters, skiprows, usecols, unpack, ndmin, encoding)\u001b[0m\n\u001b[0;32m    924\u001b[0m             \u001b[0mfname\u001b[0m \u001b[1;33m=\u001b[0m \u001b[0mstr\u001b[0m\u001b[1;33m(\u001b[0m\u001b[0mfname\u001b[0m\u001b[1;33m)\u001b[0m\u001b[1;33m\u001b[0m\u001b[0m\n\u001b[0;32m    925\u001b[0m         \u001b[1;32mif\u001b[0m \u001b[0m_is_string_like\u001b[0m\u001b[1;33m(\u001b[0m\u001b[0mfname\u001b[0m\u001b[1;33m)\u001b[0m\u001b[1;33m:\u001b[0m\u001b[1;33m\u001b[0m\u001b[0m\n\u001b[1;32m--> 926\u001b[1;33m             \u001b[0mfh\u001b[0m \u001b[1;33m=\u001b[0m \u001b[0mnp\u001b[0m\u001b[1;33m.\u001b[0m\u001b[0mlib\u001b[0m\u001b[1;33m.\u001b[0m\u001b[0m_datasource\u001b[0m\u001b[1;33m.\u001b[0m\u001b[0mopen\u001b[0m\u001b[1;33m(\u001b[0m\u001b[0mfname\u001b[0m\u001b[1;33m,\u001b[0m \u001b[1;34m'rt'\u001b[0m\u001b[1;33m,\u001b[0m \u001b[0mencoding\u001b[0m\u001b[1;33m=\u001b[0m\u001b[0mencoding\u001b[0m\u001b[1;33m)\u001b[0m\u001b[1;33m\u001b[0m\u001b[0m\n\u001b[0m\u001b[0;32m    927\u001b[0m             \u001b[0mfencoding\u001b[0m \u001b[1;33m=\u001b[0m \u001b[0mgetattr\u001b[0m\u001b[1;33m(\u001b[0m\u001b[0mfh\u001b[0m\u001b[1;33m,\u001b[0m \u001b[1;34m'encoding'\u001b[0m\u001b[1;33m,\u001b[0m \u001b[1;34m'latin1'\u001b[0m\u001b[1;33m)\u001b[0m\u001b[1;33m\u001b[0m\u001b[0m\n\u001b[0;32m    928\u001b[0m             \u001b[0mfh\u001b[0m \u001b[1;33m=\u001b[0m \u001b[0miter\u001b[0m\u001b[1;33m(\u001b[0m\u001b[0mfh\u001b[0m\u001b[1;33m)\u001b[0m\u001b[1;33m\u001b[0m\u001b[0m\n",
      "\u001b[1;32mD:\\Anaconda3\\lib\\site-packages\\numpy\\lib\\_datasource.py\u001b[0m in \u001b[0;36mopen\u001b[1;34m(path, mode, destpath, encoding, newline)\u001b[0m\n\u001b[0;32m    260\u001b[0m \u001b[1;33m\u001b[0m\u001b[0m\n\u001b[0;32m    261\u001b[0m     \u001b[0mds\u001b[0m \u001b[1;33m=\u001b[0m \u001b[0mDataSource\u001b[0m\u001b[1;33m(\u001b[0m\u001b[0mdestpath\u001b[0m\u001b[1;33m)\u001b[0m\u001b[1;33m\u001b[0m\u001b[0m\n\u001b[1;32m--> 262\u001b[1;33m     \u001b[1;32mreturn\u001b[0m \u001b[0mds\u001b[0m\u001b[1;33m.\u001b[0m\u001b[0mopen\u001b[0m\u001b[1;33m(\u001b[0m\u001b[0mpath\u001b[0m\u001b[1;33m,\u001b[0m \u001b[0mmode\u001b[0m\u001b[1;33m,\u001b[0m \u001b[0mencoding\u001b[0m\u001b[1;33m=\u001b[0m\u001b[0mencoding\u001b[0m\u001b[1;33m,\u001b[0m \u001b[0mnewline\u001b[0m\u001b[1;33m=\u001b[0m\u001b[0mnewline\u001b[0m\u001b[1;33m)\u001b[0m\u001b[1;33m\u001b[0m\u001b[0m\n\u001b[0m\u001b[0;32m    263\u001b[0m \u001b[1;33m\u001b[0m\u001b[0m\n\u001b[0;32m    264\u001b[0m \u001b[1;33m\u001b[0m\u001b[0m\n",
      "\u001b[1;32mD:\\Anaconda3\\lib\\site-packages\\numpy\\lib\\_datasource.py\u001b[0m in \u001b[0;36mopen\u001b[1;34m(self, path, mode, encoding, newline)\u001b[0m\n\u001b[0;32m    616\u001b[0m                                       encoding=encoding, newline=newline)\n\u001b[0;32m    617\u001b[0m         \u001b[1;32melse\u001b[0m\u001b[1;33m:\u001b[0m\u001b[1;33m\u001b[0m\u001b[0m\n\u001b[1;32m--> 618\u001b[1;33m             \u001b[1;32mraise\u001b[0m \u001b[0mIOError\u001b[0m\u001b[1;33m(\u001b[0m\u001b[1;34m\"%s not found.\"\u001b[0m \u001b[1;33m%\u001b[0m \u001b[0mpath\u001b[0m\u001b[1;33m)\u001b[0m\u001b[1;33m\u001b[0m\u001b[0m\n\u001b[0m\u001b[0;32m    619\u001b[0m \u001b[1;33m\u001b[0m\u001b[0m\n\u001b[0;32m    620\u001b[0m \u001b[1;33m\u001b[0m\u001b[0m\n",
      "\u001b[1;31mOSError\u001b[0m: data/Dateiname.dat not found."
     ]
    }
   ],
   "source": [
    "anzahl, haeufigkeit=np.loadtxt('data/Dateiname.dat', unpack=True)\n",
    "fehler=np.sqrt(haeufigkeit)\n",
    "\n",
    "plt.errorbar(anzahl, haeufigkeit, fehler, fmt=\".\")\n",
    "plt.xlabel('Anzahl der Zerfaelle pro Zeiteinheit / 1/s')\n",
    "plt.ylabel('Haeufigkeit')\n",
    "plt.title('Statistik des radioaktiven Zerfalls')\n",
    "\n",
    "popt, pcov=curve_fit(gaussian,anzahl[12:-12], haeufigkeit[12:-12],\n",
    "p0=[2000,75,8],sigma=fehler[12:-12])\n",
    "popt_p, pcov_p = curve_fit(poisson, anzahl[12:-12],\n",
    "haeufigkeit[12:-12], p0=[2000, 75], sigma=fehler[12:-12])\n",
    "\n",
    "plt.errorbar(anzahl,haeufigkeit,fehler, fmt=\".\",label='Messung')\n",
    "plt.xlabel('Anzahl der Zerfaelle pro Zeiteinheit 1/s')\n",
    "plt.ylabel('Haeufigkeit')\n",
    "plt.title('Statistik des radioaktiven Zerfalls')\n",
    "x=np.linspace(40,110, 100)\n",
    "plt.plot(x, gaussian(x,*popt), label='Gauss')\n",
    "plt.plot(x, poisson(x,*popt_p), label='Poisson',linestyle=':')\n",
    "plt.legend()\n",
    "plt.savefig(\"figures/poisson_vs_gaussian.pdf\", format=\"pdf\")\n",
    "\n",
    "print(\"Gaussfit:\")\n",
    "print(\"A=\",popt[0], \", Standardfehler=\", np.sqrt(pcov[0][0]))\n",
    "print(\"mu=\",popt[1], \", Standardfehler=\", np.sqrt(pcov[1][1]))\n",
    "print(\"sig=\",popt[2], \", Standardfehler=\", np.sqrt(pcov[2][2]))\n",
    "print(\"Poissonfit:\")\n",
    "print(\"A_p=\",popt_p[0], \", Standardfehler=\", sqrt(pcov_p[0][0]))\n",
    "print(\"mu_p=\",popt_p[1], \", Standardfehler=\", sqrt(pcov_p[1][1]))\n",
    "\n",
    "#Gauss:\n",
    "chi2_g=np.sum((gaussian(anzahl[12:-12],*popt)\n",
    "-haeufigkeit[12:-12])**2/fehler[12:-12]**2)\n",
    "dof_g=len(anzahl[12:-12])-3 #dof:degrees of freedom, Freiheitsgrad\n",
    "chi2_red_g=chi2_g/dof_g\n",
    "print(\"chi2_g=\", chi2_g)\n",
    "print(\"chi2_red_g=\",chi2_red_g)\n",
    "#Poisson:\n",
    "chi2_p=np.sum((poisson(anzahl[12:-12],*popt_p)\n",
    "-haeufigkeit[12:-12])**2/fehler[12:-12]**2)\n",
    "dof_p=len(anzahl[12:-12])-2 #poisson hat nur 2 Parameter\n",
    "chi2_red_p=chi2_p/dof_p\n",
    "print(\"chi2_p=\", chi2_p)\n",
    "print(\"chi2_red_p=\",chi2_red_p)\n",
    "\n",
    "#Gauss:\n",
    "prob_g=round(1-chi2.cdf(chi2_g,dof_g),2)*100\n",
    "#Poisson:\n",
    "prob_p=round(1-chi2.cdf(chi2_p,dof_p),2)*100\n",
    "print(\"Wahrscheinlichkeit Gauss=\", prob_g,\"%\")\n",
    "print(\"Wahrscheinlichkeit Poisson=\", prob_p,\"%\")"
   ]
  },
  {
   "cell_type": "code",
   "execution_count": 18,
   "metadata": {},
   "outputs": [
    {
     "ename": "OSError",
     "evalue": "data/Dateiname.dat not found.",
     "output_type": "error",
     "traceback": [
      "\u001b[1;31m---------------------------------------------------------------------------\u001b[0m",
      "\u001b[1;31mOSError\u001b[0m                                   Traceback (most recent call last)",
      "\u001b[1;32m<ipython-input-18-16c810255b91>\u001b[0m in \u001b[0;36m<module>\u001b[1;34m()\u001b[0m\n\u001b[1;32m----> 1\u001b[1;33m \u001b[0manzahl2\u001b[0m\u001b[1;33m,\u001b[0m \u001b[0mhaeufigkeit2\u001b[0m\u001b[1;33m=\u001b[0m\u001b[0mnp\u001b[0m\u001b[1;33m.\u001b[0m\u001b[0mloadtxt\u001b[0m\u001b[1;33m(\u001b[0m\u001b[1;34m'data/Dateiname.dat'\u001b[0m\u001b[1;33m,\u001b[0m \u001b[0munpack\u001b[0m\u001b[1;33m=\u001b[0m\u001b[1;32mTrue\u001b[0m\u001b[1;33m)\u001b[0m\u001b[1;33m\u001b[0m\u001b[0m\n\u001b[0m\u001b[0;32m      2\u001b[0m \u001b[0mfehler2\u001b[0m\u001b[1;33m=\u001b[0m\u001b[0mnp\u001b[0m\u001b[1;33m.\u001b[0m\u001b[0msqrt\u001b[0m\u001b[1;33m(\u001b[0m\u001b[0mhaeufigkeit2\u001b[0m\u001b[1;33m)\u001b[0m\u001b[1;33m\u001b[0m\u001b[0m\n\u001b[0;32m      3\u001b[0m \u001b[1;33m\u001b[0m\u001b[0m\n\u001b[0;32m      4\u001b[0m \u001b[0mplt\u001b[0m\u001b[1;33m.\u001b[0m\u001b[0merrorbar\u001b[0m\u001b[1;33m(\u001b[0m\u001b[0manzahl2\u001b[0m\u001b[1;33m,\u001b[0m \u001b[0mhaeufigkeit2\u001b[0m\u001b[1;33m,\u001b[0m \u001b[0mfehler2\u001b[0m\u001b[1;33m,\u001b[0m \u001b[0mfmt\u001b[0m\u001b[1;33m=\u001b[0m\u001b[1;34m\".\"\u001b[0m\u001b[1;33m)\u001b[0m\u001b[1;33m\u001b[0m\u001b[0m\n\u001b[0;32m      5\u001b[0m \u001b[0mplt\u001b[0m\u001b[1;33m.\u001b[0m\u001b[0mxlabel\u001b[0m\u001b[1;33m(\u001b[0m\u001b[1;34m'Anzahl der Zerfaelle pro Zeiteinheit / 1/s'\u001b[0m\u001b[1;33m)\u001b[0m\u001b[1;33m\u001b[0m\u001b[0m\n",
      "\u001b[1;32mD:\\Anaconda3\\lib\\site-packages\\numpy\\lib\\npyio.py\u001b[0m in \u001b[0;36mloadtxt\u001b[1;34m(fname, dtype, comments, delimiter, converters, skiprows, usecols, unpack, ndmin, encoding)\u001b[0m\n\u001b[0;32m    924\u001b[0m             \u001b[0mfname\u001b[0m \u001b[1;33m=\u001b[0m \u001b[0mstr\u001b[0m\u001b[1;33m(\u001b[0m\u001b[0mfname\u001b[0m\u001b[1;33m)\u001b[0m\u001b[1;33m\u001b[0m\u001b[0m\n\u001b[0;32m    925\u001b[0m         \u001b[1;32mif\u001b[0m \u001b[0m_is_string_like\u001b[0m\u001b[1;33m(\u001b[0m\u001b[0mfname\u001b[0m\u001b[1;33m)\u001b[0m\u001b[1;33m:\u001b[0m\u001b[1;33m\u001b[0m\u001b[0m\n\u001b[1;32m--> 926\u001b[1;33m             \u001b[0mfh\u001b[0m \u001b[1;33m=\u001b[0m \u001b[0mnp\u001b[0m\u001b[1;33m.\u001b[0m\u001b[0mlib\u001b[0m\u001b[1;33m.\u001b[0m\u001b[0m_datasource\u001b[0m\u001b[1;33m.\u001b[0m\u001b[0mopen\u001b[0m\u001b[1;33m(\u001b[0m\u001b[0mfname\u001b[0m\u001b[1;33m,\u001b[0m \u001b[1;34m'rt'\u001b[0m\u001b[1;33m,\u001b[0m \u001b[0mencoding\u001b[0m\u001b[1;33m=\u001b[0m\u001b[0mencoding\u001b[0m\u001b[1;33m)\u001b[0m\u001b[1;33m\u001b[0m\u001b[0m\n\u001b[0m\u001b[0;32m    927\u001b[0m             \u001b[0mfencoding\u001b[0m \u001b[1;33m=\u001b[0m \u001b[0mgetattr\u001b[0m\u001b[1;33m(\u001b[0m\u001b[0mfh\u001b[0m\u001b[1;33m,\u001b[0m \u001b[1;34m'encoding'\u001b[0m\u001b[1;33m,\u001b[0m \u001b[1;34m'latin1'\u001b[0m\u001b[1;33m)\u001b[0m\u001b[1;33m\u001b[0m\u001b[0m\n\u001b[0;32m    928\u001b[0m             \u001b[0mfh\u001b[0m \u001b[1;33m=\u001b[0m \u001b[0miter\u001b[0m\u001b[1;33m(\u001b[0m\u001b[0mfh\u001b[0m\u001b[1;33m)\u001b[0m\u001b[1;33m\u001b[0m\u001b[0m\n",
      "\u001b[1;32mD:\\Anaconda3\\lib\\site-packages\\numpy\\lib\\_datasource.py\u001b[0m in \u001b[0;36mopen\u001b[1;34m(path, mode, destpath, encoding, newline)\u001b[0m\n\u001b[0;32m    260\u001b[0m \u001b[1;33m\u001b[0m\u001b[0m\n\u001b[0;32m    261\u001b[0m     \u001b[0mds\u001b[0m \u001b[1;33m=\u001b[0m \u001b[0mDataSource\u001b[0m\u001b[1;33m(\u001b[0m\u001b[0mdestpath\u001b[0m\u001b[1;33m)\u001b[0m\u001b[1;33m\u001b[0m\u001b[0m\n\u001b[1;32m--> 262\u001b[1;33m     \u001b[1;32mreturn\u001b[0m \u001b[0mds\u001b[0m\u001b[1;33m.\u001b[0m\u001b[0mopen\u001b[0m\u001b[1;33m(\u001b[0m\u001b[0mpath\u001b[0m\u001b[1;33m,\u001b[0m \u001b[0mmode\u001b[0m\u001b[1;33m,\u001b[0m \u001b[0mencoding\u001b[0m\u001b[1;33m=\u001b[0m\u001b[0mencoding\u001b[0m\u001b[1;33m,\u001b[0m \u001b[0mnewline\u001b[0m\u001b[1;33m=\u001b[0m\u001b[0mnewline\u001b[0m\u001b[1;33m)\u001b[0m\u001b[1;33m\u001b[0m\u001b[0m\n\u001b[0m\u001b[0;32m    263\u001b[0m \u001b[1;33m\u001b[0m\u001b[0m\n\u001b[0;32m    264\u001b[0m \u001b[1;33m\u001b[0m\u001b[0m\n",
      "\u001b[1;32mD:\\Anaconda3\\lib\\site-packages\\numpy\\lib\\_datasource.py\u001b[0m in \u001b[0;36mopen\u001b[1;34m(self, path, mode, encoding, newline)\u001b[0m\n\u001b[0;32m    616\u001b[0m                                       encoding=encoding, newline=newline)\n\u001b[0;32m    617\u001b[0m         \u001b[1;32melse\u001b[0m\u001b[1;33m:\u001b[0m\u001b[1;33m\u001b[0m\u001b[0m\n\u001b[1;32m--> 618\u001b[1;33m             \u001b[1;32mraise\u001b[0m \u001b[0mIOError\u001b[0m\u001b[1;33m(\u001b[0m\u001b[1;34m\"%s not found.\"\u001b[0m \u001b[1;33m%\u001b[0m \u001b[0mpath\u001b[0m\u001b[1;33m)\u001b[0m\u001b[1;33m\u001b[0m\u001b[0m\n\u001b[0m\u001b[0;32m    619\u001b[0m \u001b[1;33m\u001b[0m\u001b[0m\n\u001b[0;32m    620\u001b[0m \u001b[1;33m\u001b[0m\u001b[0m\n",
      "\u001b[1;31mOSError\u001b[0m: data/Dateiname.dat not found."
     ]
    }
   ],
   "source": [
    "anzahl2, haeufigkeit2=np.loadtxt('data/Dateiname.dat', unpack=True)\n",
    "fehler2=np.sqrt(haeufigkeit2)\n",
    "\n",
    "plt.errorbar(anzahl2, haeufigkeit2, fehler2, fmt=\".\")\n",
    "plt.xlabel('Anzahl der Zerfaelle pro Zeiteinheit / 1/s')\n",
    "plt.ylabel('Haeufigkeit')\n",
    "plt.title('Statistik des radioaktiven Zerfalls bei kleinen Raten')\n",
    "\n",
    "popt2, pcov2=curve_fit(gaussian,anzahl2[12:-12], haeufigkeit2[12:-12],\n",
    "                       p0=[2000,75,8],sigma=fehler2[12:-12])\n",
    "popt_p2, pcov_p2 = curve_fit(poisson2, anzahl2[12:-12],\n",
    "                       haeufigkeit2[12:-12], p0=[2000, 75], sigma=fehler[12:-12])\n",
    "\n",
    "plt.errorbar(anzahl2,haeufigkeit2,fehler2, fmt=\".\",label='Messung')\n",
    "plt.xlabel('Anzahl der Zerfaelle pro Zeiteinheit 1/s')\n",
    "plt.ylabel('Haeufigkeit')\n",
    "plt.title('Statistik des radioaktiven Zerfalls')\n",
    "x=np.linspace(40,110, 100)\n",
    "plt.plot(x, gaussian(x,*popt2), label='Gauss')\n",
    "plt.plot(x, poisson(x,*popt_p2), label='Poisson',linestyle=':')\n",
    "plt.legend()\n",
    "plt.savefig(\"figures/poisson_vs_gaussian_low_rates.pdf\", format=\"pdf\")\n",
    "\n",
    "print(\"Gaussfit:\")\n",
    "print(\"A=\",popt2[0], \", Standardfehler=\", np.sqrt(pcov2[0][0]))\n",
    "print(\"mu=\",popt2[1], \", Standardfehler=\", np.sqrt(pcov2[1][1]))\n",
    "print(\"sig=\",popt2[2], \", Standardfehler=\", np.sqrt(pcov2[2][2]))\n",
    "print(\"Poissonfit:\")\n",
    "print(\"A_p=\",popt_p2[0], \", Standardfehler=\", sqrt(pcov_p2[0][0]))\n",
    "print(\"mu_p=\",popt_p2[1], \", Standardfehler=\", sqrt(pcov_p2[1][1]))\n",
    "\n",
    "#Gauss:\n",
    "chi2_g2=np.sum((gaussian(anzahl2[12:-12],*popt2)-\n",
    "                haeufigkeit2[12:-12])**2/fehler2[12:-12]**2)\n",
    "dof_g2=len(anzahl2[12:-12])-3 #dof:degrees of freedom, Freiheitsgrad\n",
    "chi2_red_g2=chi2_g2/dof_g2\n",
    "print(\"chi2_g=\", chi2_g2)\n",
    "print(\"chi2_red_g=\",chi2_red_g2)\n",
    "#Poisson:\n",
    "chi2_p2=np.sum((poisson(anzahl2[12:-12],*popt_p2)-\n",
    "                haeufigkeit2[12:-12])**2/fehler2[12:-12]**2)\n",
    "dof_p2=len(anzahl2[12:-12])-2 #poisson hat nur 2 Parameter\n",
    "chi2_red_p2=chi2_p2/dof_p2\n",
    "print(\"chi2_p=\", chi2_p2)\n",
    "print(\"chi2_red_p=\",chi2_red_p2)\n",
    "\n",
    "#Gauss:\n",
    "prob_g2=round(1-chi2.cdf(chi2_g2,dof_g2),2)*100\n",
    "#Poisson:\n",
    "prob_p2=round(1-chi2.cdf(chi2_p2,dof_p2),2)*100\n",
    "print(\"Wahrscheinlichkeit Gauss=\", prob_g2,\"%\")\n",
    "print(\"Wahrscheinlichkeit Poisson=\", prob_p2,\"%\")"
   ]
  },
  {
   "cell_type": "code",
   "execution_count": null,
   "metadata": {},
   "outputs": [],
   "source": []
  }
 ],
 "metadata": {
  "kernelspec": {
   "display_name": "Python 3",
   "language": "python",
   "name": "python3"
  },
  "language_info": {
   "codemirror_mode": {
    "name": "ipython",
    "version": 3
   },
   "file_extension": ".py",
   "mimetype": "text/x-python",
   "name": "python",
   "nbconvert_exporter": "python",
   "pygments_lexer": "ipython3",
   "version": "3.7.0"
  }
 },
 "nbformat": 4,
 "nbformat_minor": 2
}
